{
 "cells": [
  {
   "cell_type": "code",
   "execution_count": 14,
   "id": "54142efd",
   "metadata": {},
   "outputs": [],
   "source": [
    "import pandas as pd\n",
    "import matplotlib.pyplot as plt\n",
    "import numpy as np\n",
    "import scipy as sp\n",
    "pd.options.mode.chained_assignment = None \n",
    "\n",
    "pd.set_option('display.max_columns', None)\n",
    "pd.set_option('display.max_rows', None)"
   ]
  },
  {
   "cell_type": "code",
   "execution_count": 15,
   "id": "b7417173",
   "metadata": {},
   "outputs": [],
   "source": [
    "fake_results = pd.read_csv('./Fake/fake_news_collection_scores1.csv')\n",
    "real_results = pd.read_csv('./Real/real_news_collection_scores1.csv')"
   ]
  },
  {
   "cell_type": "code",
   "execution_count": 16,
   "id": "3f3a41c0",
   "metadata": {},
   "outputs": [],
   "source": [
    "cols = list(fake_results.columns.values)"
   ]
  },
  {
   "cell_type": "markdown",
   "id": "ffa1fa4f",
   "metadata": {},
   "source": [
    "## Simple mean of (weighted) credibility scores for fake and real news"
   ]
  },
  {
   "cell_type": "code",
   "execution_count": 17,
   "id": "bb829dd8",
   "metadata": {},
   "outputs": [
    {
     "data": {
      "text/plain": [
       "6.240840200558213"
      ]
     },
     "execution_count": 17,
     "metadata": {},
     "output_type": "execute_result"
    }
   ],
   "source": [
    "fake_results['credibility_score'].mean()"
   ]
  },
  {
   "cell_type": "code",
   "execution_count": 18,
   "id": "bedc078e",
   "metadata": {},
   "outputs": [
    {
     "data": {
      "text/plain": [
       "6.540821766174907"
      ]
     },
     "execution_count": 18,
     "metadata": {},
     "output_type": "execute_result"
    }
   ],
   "source": [
    "fake_results['credibility_score_weighted']*=10\n",
    "fake_results['credibility_score_weighted'].mean()"
   ]
  },
  {
   "cell_type": "code",
   "execution_count": 19,
   "id": "9cd0746c",
   "metadata": {},
   "outputs": [
    {
     "data": {
      "text/plain": [
       "6.733972286218182"
      ]
     },
     "execution_count": 19,
     "metadata": {},
     "output_type": "execute_result"
    }
   ],
   "source": [
    "real_results['credibility_score'].mean()"
   ]
  },
  {
   "cell_type": "code",
   "execution_count": 20,
   "id": "c556df8f",
   "metadata": {},
   "outputs": [
    {
     "data": {
      "text/plain": [
       "7.173312764336098"
      ]
     },
     "execution_count": 20,
     "metadata": {},
     "output_type": "execute_result"
    }
   ],
   "source": [
    "real_results['credibility_score_weighted']*=10\n",
    "real_results['credibility_score_weighted'].mean()"
   ]
  },
  {
   "cell_type": "markdown",
   "id": "ea2e58f9",
   "metadata": {},
   "source": [
    "## Median of same score"
   ]
  },
  {
   "cell_type": "code",
   "execution_count": 21,
   "id": "67617ff4",
   "metadata": {},
   "outputs": [
    {
     "data": {
      "text/plain": [
       "6.21363463165944"
      ]
     },
     "execution_count": 21,
     "metadata": {},
     "output_type": "execute_result"
    }
   ],
   "source": [
    "fake_results['credibility_score'].median()"
   ]
  },
  {
   "cell_type": "code",
   "execution_count": 22,
   "id": "42bdf76b",
   "metadata": {},
   "outputs": [
    {
     "data": {
      "text/plain": [
       "6.54228093715507"
      ]
     },
     "execution_count": 22,
     "metadata": {},
     "output_type": "execute_result"
    }
   ],
   "source": [
    "fake_results['credibility_score_weighted'].median()"
   ]
  },
  {
   "cell_type": "code",
   "execution_count": 23,
   "id": "7c7ae353",
   "metadata": {},
   "outputs": [
    {
     "data": {
      "text/plain": [
       "6.76064213564214"
      ]
     },
     "execution_count": 23,
     "metadata": {},
     "output_type": "execute_result"
    }
   ],
   "source": [
    "real_results['credibility_score'].median()"
   ]
  },
  {
   "cell_type": "code",
   "execution_count": 24,
   "id": "d61c6f58",
   "metadata": {},
   "outputs": [
    {
     "data": {
      "text/plain": [
       "7.19167202205425"
      ]
     },
     "execution_count": 24,
     "metadata": {},
     "output_type": "execute_result"
    }
   ],
   "source": [
    "real_results['credibility_score_weighted'].median()"
   ]
  },
  {
   "cell_type": "code",
   "execution_count": 25,
   "id": "7e955d1d",
   "metadata": {},
   "outputs": [
    {
     "data": {
      "text/plain": [
       "(array([0, 1, 2, 3]),\n",
       " [Text(0, 0, 'mean_score'),\n",
       "  Text(1, 0, 'median_score'),\n",
       "  Text(2, 0, 'mean_weighted_score'),\n",
       "  Text(3, 0, 'median_weighted_score')])"
      ]
     },
     "execution_count": 25,
     "metadata": {},
     "output_type": "execute_result"
    },
    {
     "data": {
      "image/png": "[encoded data removed]",
      "text/plain": [
       "<Figure size 1080x360 with 1 Axes>"
      ]
     },
     "metadata": {
      "needs_background": "light"
     },
     "output_type": "display_data"
    }
   ],
   "source": [
    "mean_median_scores = {'fake': [6.240840200558213, 6.21363463165944, 6.540821766174907, 6.54228093715507], \n",
    "                      'real': [6.733972286218182, 6.76064213564214, 7.173312764336098, 7.19167202205425]}\n",
    "\n",
    "mean_median = pd.DataFrame(data=mean_median_scores, index=['mean_score', 'median_score', 'mean_weighted_score', 'median_weighted_score'])\n",
    "\n",
    "mean_median.plot(y=[\"fake\", \"real\"], kind=\"bar\", figsize=(15, 5))\n",
    "plt.title('Score mean and median values')\n",
    "plt.xticks(rotation='horizontal')"
   ]
  },
  {
   "cell_type": "markdown",
   "id": "9984443c",
   "metadata": {},
   "source": [
    "## Comparing subscores for real and fake news"
   ]
  },
  {
   "cell_type": "code",
   "execution_count": 26,
   "id": "6399afbb",
   "metadata": {},
   "outputs": [
    {
     "data": {
      "text/plain": [
       "(array([0, 1, 2, 3]),\n",
       " [Text(0, 0, 'score_formality'),\n",
       "  Text(1, 0, 'score_neutrality'),\n",
       "  Text(2, 0, 'score_transparency'),\n",
       "  Text(3, 0, 'score_layout')])"
      ]
     },
     "execution_count": 26,
     "metadata": {},
     "output_type": "execute_result"
    },
    {
     "data": {
      "image/png": "[encoded data removed]",
      "text/plain": [
       "<Figure size 1080x360 with 1 Axes>"
      ]
     },
     "metadata": {
      "needs_background": "light"
     },
     "output_type": "display_data"
    }
   ],
   "source": [
    "fake_results_subscores = fake_results[['score_formality', 'score_neutrality', 'score_transparency', 'score_layout']]\n",
    "real_results_subscores = real_results[['score_formality', 'score_neutrality', 'score_transparency', 'score_layout']]\n",
    "\n",
    "mean_subscores = pd.DataFrame([fake_results_subscores.mean()], index=['fake']).transpose()\n",
    "mean_subscores_real = pd.DataFrame([real_results_subscores.mean()], index=['real']).transpose()\n",
    "mean_subscores['real'] = mean_subscores_real\n",
    "\n",
    "mean_subscores.plot(y=[\"fake\", \"real\"], kind=\"bar\", figsize=(15, 5))\n",
    "plt.title('Subscore comparison')\n",
    "\n",
    "plt.xticks(rotation='horizontal')"
   ]
  },
  {
   "cell_type": "code",
   "execution_count": 27,
   "id": "63d5a85e",
   "metadata": {},
   "outputs": [
    {
     "data": {
      "text/html": [
       "<div>\n",
       "<style scoped>\n",
       "    .dataframe tbody tr th:only-of-type {\n",
       "        vertical-align: middle;\n",
       "    }\n",
       "\n",
       "    .dataframe tbody tr th {\n",
       "        vertical-align: top;\n",
       "    }\n",
       "\n",
       "    .dataframe thead th {\n",
       "        text-align: right;\n",
       "    }\n",
       "</style>\n",
       "<table border=\"1\" class=\"dataframe\">\n",
       "  <thead>\n",
       "    <tr style=\"text-align: right;\">\n",
       "      <th></th>\n",
       "      <th>fake</th>\n",
       "      <th>real</th>\n",
       "      <th>diff</th>\n",
       "    </tr>\n",
       "  </thead>\n",
       "  <tbody>\n",
       "    <tr>\n",
       "      <th>score_formality</th>\n",
       "      <td>2.782259</td>\n",
       "      <td>3.119760</td>\n",
       "      <td>0.084375</td>\n",
       "    </tr>\n",
       "    <tr>\n",
       "      <th>score_neutrality</th>\n",
       "      <td>3.452225</td>\n",
       "      <td>3.561662</td>\n",
       "      <td>0.027359</td>\n",
       "    </tr>\n",
       "    <tr>\n",
       "      <th>score_transparency</th>\n",
       "      <td>2.103035</td>\n",
       "      <td>2.334162</td>\n",
       "      <td>0.057782</td>\n",
       "    </tr>\n",
       "    <tr>\n",
       "      <th>score_layout</th>\n",
       "      <td>1.647826</td>\n",
       "      <td>1.758772</td>\n",
       "      <td>0.027736</td>\n",
       "    </tr>\n",
       "  </tbody>\n",
       "</table>\n",
       "</div>"
      ],
      "text/plain": [
       "                        fake      real      diff\n",
       "score_formality     2.782259  3.119760  0.084375\n",
       "score_neutrality    3.452225  3.561662  0.027359\n",
       "score_transparency  2.103035  2.334162  0.057782\n",
       "score_layout        1.647826  1.758772  0.027736"
      ]
     },
     "execution_count": 27,
     "metadata": {},
     "output_type": "execute_result"
    }
   ],
   "source": [
    "mean_subscores['diff'] = (mean_subscores['real'] - mean_subscores['fake'])/4\n",
    "mean_subscores"
   ]
  },
  {
   "cell_type": "markdown",
   "id": "f7d75517",
   "metadata": {},
   "source": [
    "## Comparing subsubscores for real and fake news"
   ]
  },
  {
   "cell_type": "code",
   "execution_count": 28,
   "id": "a7cba52e",
   "metadata": {},
   "outputs": [],
   "source": [
    "fake_results_subsubscores = fake_results[['form_score_spelling', 'form_score_punctuation', 'form_score_capitalization', 'form_score_complexity', \n",
    "                             'neut_score_superlatives', 'neut_score_emotional', 'neut_score_banned', 'neut_score_slurs', \n",
    "                             'tran_score_citations', 'tran_score_external_references', 'tran_score_broken_links', 'tran_score_author', \n",
    "                             'lay_score_photos', 'lay_score_video', 'lay_score_font_size', 'lay_score_font_type']]"
   ]
  },
  {
   "cell_type": "code",
   "execution_count": 29,
   "id": "e577f9a5",
   "metadata": {},
   "outputs": [],
   "source": [
    "real_results_subsubscores = real_results[['form_score_spelling', 'form_score_punctuation', 'form_score_capitalization', 'form_score_complexity', \n",
    "                             'neut_score_superlatives', 'neut_score_emotional', 'neut_score_banned', 'neut_score_slurs', \n",
    "                             'tran_score_citations', 'tran_score_external_references', 'tran_score_broken_links', 'tran_score_author', \n",
    "                             'lay_score_photos', 'lay_score_video', 'lay_score_font_size', 'lay_score_font_type']]"
   ]
  },
  {
   "cell_type": "code",
   "execution_count": 30,
   "id": "cc4b1b45",
   "metadata": {
    "scrolled": true
   },
   "outputs": [
    {
     "data": {
      "text/plain": [
       "(array([ 0,  1,  2,  3,  4,  5,  6,  7,  8,  9, 10, 11, 12, 13, 14, 15]),\n",
       " [Text(0, 0, 'form_score_spelling'),\n",
       "  Text(1, 0, 'form_score_punctuation'),\n",
       "  Text(2, 0, 'form_score_capitalization'),\n",
       "  Text(3, 0, 'form_score_complexity'),\n",
       "  Text(4, 0, 'neut_score_superlatives'),\n",
       "  Text(5, 0, 'neut_score_emotional'),\n",
       "  Text(6, 0, 'neut_score_banned'),\n",
       "  Text(7, 0, 'neut_score_slurs'),\n",
       "  Text(8, 0, 'tran_score_citations'),\n",
       "  Text(9, 0, 'tran_score_external_references'),\n",
       "  Text(10, 0, 'tran_score_broken_links'),\n",
       "  Text(11, 0, 'tran_score_author'),\n",
       "  Text(12, 0, 'lay_score_photos'),\n",
       "  Text(13, 0, 'lay_score_video'),\n",
       "  Text(14, 0, 'lay_score_font_size'),\n",
       "  Text(15, 0, 'lay_score_font_type')])"
      ]
     },
     "execution_count": 30,
     "metadata": {},
     "output_type": "execute_result"
    },
    {
     "data": {
      "image/png": "[encoded data removed]",
      "text/plain": [
       "<Figure size 1080x360 with 1 Axes>"
      ]
     },
     "metadata": {
      "needs_background": "light"
     },
     "output_type": "display_data"
    }
   ],
   "source": [
    "mean_scores = pd.DataFrame([fake_results_subsubscores.mean()], index=['fake']).transpose()\n",
    "mean_scores_real = pd.DataFrame([real_results_subsubscores.mean()], index=['real']).transpose()\n",
    "mean_scores['real'] = mean_scores_real\n",
    "\n",
    "mean_scores.plot(y=[\"fake\", \"real\"], kind=\"bar\", figsize=(15, 5))\n",
    "plt.title('Subscore elements comparison')\n",
    "plt.xticks(rotation=50)"
   ]
  },
  {
   "cell_type": "code",
   "execution_count": 31,
   "id": "98deb76e",
   "metadata": {},
   "outputs": [
    {
     "data": {
      "text/html": [
       "<div>\n",
       "<style scoped>\n",
       "    .dataframe tbody tr th:only-of-type {\n",
       "        vertical-align: middle;\n",
       "    }\n",
       "\n",
       "    .dataframe tbody tr th {\n",
       "        vertical-align: top;\n",
       "    }\n",
       "\n",
       "    .dataframe thead th {\n",
       "        text-align: right;\n",
       "    }\n",
       "</style>\n",
       "<table border=\"1\" class=\"dataframe\">\n",
       "  <thead>\n",
       "    <tr style=\"text-align: right;\">\n",
       "      <th></th>\n",
       "      <th>fake</th>\n",
       "      <th>real</th>\n",
       "      <th>diff</th>\n",
       "    </tr>\n",
       "  </thead>\n",
       "  <tbody>\n",
       "    <tr>\n",
       "      <th>lay_score_font_size</th>\n",
       "      <td>0.608696</td>\n",
       "      <td>0.520468</td>\n",
       "      <td>-8.822782</td>\n",
       "    </tr>\n",
       "    <tr>\n",
       "      <th>lay_score_photos</th>\n",
       "      <td>0.589130</td>\n",
       "      <td>0.533626</td>\n",
       "      <td>-5.550470</td>\n",
       "    </tr>\n",
       "    <tr>\n",
       "      <th>tran_score_external_references</th>\n",
       "      <td>0.378662</td>\n",
       "      <td>0.336470</td>\n",
       "      <td>-4.219155</td>\n",
       "    </tr>\n",
       "    <tr>\n",
       "      <th>neut_score_superlatives</th>\n",
       "      <td>0.988505</td>\n",
       "      <td>0.987124</td>\n",
       "      <td>-0.138056</td>\n",
       "    </tr>\n",
       "    <tr>\n",
       "      <th>neut_score_banned</th>\n",
       "      <td>0.986304</td>\n",
       "      <td>0.992329</td>\n",
       "      <td>0.602548</td>\n",
       "    </tr>\n",
       "    <tr>\n",
       "      <th>form_score_capitalization</th>\n",
       "      <td>0.983853</td>\n",
       "      <td>0.997272</td>\n",
       "      <td>1.341871</td>\n",
       "    </tr>\n",
       "    <tr>\n",
       "      <th>neut_score_emotional</th>\n",
       "      <td>0.581764</td>\n",
       "      <td>0.617296</td>\n",
       "      <td>3.553164</td>\n",
       "    </tr>\n",
       "    <tr>\n",
       "      <th>tran_score_author</th>\n",
       "      <td>0.904348</td>\n",
       "      <td>0.947368</td>\n",
       "      <td>4.302059</td>\n",
       "    </tr>\n",
       "    <tr>\n",
       "      <th>form_score_spelling</th>\n",
       "      <td>0.754118</td>\n",
       "      <td>0.801240</td>\n",
       "      <td>4.712178</td>\n",
       "    </tr>\n",
       "    <tr>\n",
       "      <th>form_score_complexity</th>\n",
       "      <td>0.372371</td>\n",
       "      <td>0.425053</td>\n",
       "      <td>5.268226</td>\n",
       "    </tr>\n",
       "    <tr>\n",
       "      <th>neut_score_slurs</th>\n",
       "      <td>0.895652</td>\n",
       "      <td>0.964912</td>\n",
       "      <td>6.926011</td>\n",
       "    </tr>\n",
       "    <tr>\n",
       "      <th>tran_score_citations</th>\n",
       "      <td>0.274513</td>\n",
       "      <td>0.370756</td>\n",
       "      <td>9.624278</td>\n",
       "    </tr>\n",
       "    <tr>\n",
       "      <th>lay_score_video</th>\n",
       "      <td>0.017391</td>\n",
       "      <td>0.122807</td>\n",
       "      <td>10.541571</td>\n",
       "    </tr>\n",
       "    <tr>\n",
       "      <th>tran_score_broken_links</th>\n",
       "      <td>0.545512</td>\n",
       "      <td>0.679567</td>\n",
       "      <td>13.405555</td>\n",
       "    </tr>\n",
       "    <tr>\n",
       "      <th>lay_score_font_type</th>\n",
       "      <td>0.432609</td>\n",
       "      <td>0.581871</td>\n",
       "      <td>14.926265</td>\n",
       "    </tr>\n",
       "    <tr>\n",
       "      <th>form_score_punctuation</th>\n",
       "      <td>0.671917</td>\n",
       "      <td>0.896195</td>\n",
       "      <td>22.427872</td>\n",
       "    </tr>\n",
       "  </tbody>\n",
       "</table>\n",
       "</div>"
      ],
      "text/plain": [
       "                                    fake      real       diff\n",
       "lay_score_font_size             0.608696  0.520468  -8.822782\n",
       "lay_score_photos                0.589130  0.533626  -5.550470\n",
       "tran_score_external_references  0.378662  0.336470  -4.219155\n",
       "neut_score_superlatives         0.988505  0.987124  -0.138056\n",
       "neut_score_banned               0.986304  0.992329   0.602548\n",
       "form_score_capitalization       0.983853  0.997272   1.341871\n",
       "neut_score_emotional            0.581764  0.617296   3.553164\n",
       "tran_score_author               0.904348  0.947368   4.302059\n",
       "form_score_spelling             0.754118  0.801240   4.712178\n",
       "form_score_complexity           0.372371  0.425053   5.268226\n",
       "neut_score_slurs                0.895652  0.964912   6.926011\n",
       "tran_score_citations            0.274513  0.370756   9.624278\n",
       "lay_score_video                 0.017391  0.122807  10.541571\n",
       "tran_score_broken_links         0.545512  0.679567  13.405555\n",
       "lay_score_font_type             0.432609  0.581871  14.926265\n",
       "form_score_punctuation          0.671917  0.896195  22.427872"
      ]
     },
     "execution_count": 31,
     "metadata": {},
     "output_type": "execute_result"
    }
   ],
   "source": [
    "mean_scores['diff'] = ((mean_scores['real'] - mean_scores['fake'])*100)\n",
    "mean_scores = mean_scores.sort_values(by='diff')\n",
    "mean_scores"
   ]
  },
  {
   "cell_type": "markdown",
   "id": "857df837",
   "metadata": {},
   "source": [
    "## Distribution of (weighted) credibility score for fake and real news"
   ]
  },
  {
   "cell_type": "code",
   "execution_count": 41,
   "id": "8116f27d",
   "metadata": {},
   "outputs": [
    {
     "data": {
      "text/plain": [
       "Text(0.5, 1.0, 'Distribution of credibility score for fake news')"
      ]
     },
     "execution_count": 41,
     "metadata": {},
     "output_type": "execute_result"
    },
    {
     "data": {
      "image/png": "[encoded data removed]",
      "text/plain": [
       "<Figure size 1080x360 with 1 Axes>"
      ]
     },
     "metadata": {
      "needs_background": "light"
     },
     "output_type": "display_data"
    }
   ],
   "source": [
    "fake_results_cred = fake_results[['credibility_score', 'credibility_score_weighted']]\n",
    "\n",
    "fake_results_cred['credibility_score'].plot(kind='hist', bins=10, figsize=(15, 5), rwidth=0.9)\n",
    "plt.title('Distribution of credibility score for fake news')"
   ]
  },
  {
   "cell_type": "code",
   "execution_count": 42,
   "id": "f43cc590",
   "metadata": {},
   "outputs": [
    {
     "data": {
      "text/plain": [
       "Text(0.5, 1.0, 'Distribution of credibility score for real news')"
      ]
     },
     "execution_count": 42,
     "metadata": {},
     "output_type": "execute_result"
    },
    {
     "data": {
      "image/png": "[encoded data removed]",
      "text/plain": [
       "<Figure size 1080x360 with 1 Axes>"
      ]
     },
     "metadata": {
      "needs_background": "light"
     },
     "output_type": "display_data"
    }
   ],
   "source": [
    "real_results_cred = real_results[['credibility_score', 'credibility_score_weighted']]\n",
    "\n",
    "real_results_cred['credibility_score'].plot(kind='hist', bins=10, figsize=(15, 5), color='orange', rwidth=0.9)\n",
    "plt.title('Distribution of credibility score for real news')"
   ]
  },
  {
   "cell_type": "code",
   "execution_count": 36,
   "id": "2750c0bf",
   "metadata": {},
   "outputs": [
    {
     "data": {
      "text/plain": [
       "Text(0.5, 1.0, 'Distribution of weighted credibility score for fake news')"
      ]
     },
     "execution_count": 36,
     "metadata": {},
     "output_type": "execute_result"
    },
    {
     "data": {
      "image/png": "[encoded data removed]",
      "text/plain": [
       "<Figure size 1080x360 with 1 Axes>"
      ]
     },
     "metadata": {
      "needs_background": "light"
     },
     "output_type": "display_data"
    }
   ],
   "source": [
    "fake_results_cred['credibility_score_weighted'].plot(kind='hist',bins=10, figsize=(15, 5), rwidth=0.9)\n",
    "plt.title('Distribution of weighted credibility score for fake news')"
   ]
  },
  {
   "cell_type": "code",
   "execution_count": 37,
   "id": "622447a6",
   "metadata": {},
   "outputs": [
    {
     "data": {
      "text/plain": [
       "Text(0.5, 1.0, 'Distribution of weighted credibility score for real news')"
      ]
     },
     "execution_count": 37,
     "metadata": {},
     "output_type": "execute_result"
    },
    {
     "data": {
      "image/png": "[encoded data removed]",
      "text/plain": [
       "<Figure size 1080x360 with 1 Axes>"
      ]
     },
     "metadata": {
      "needs_background": "light"
     },
     "output_type": "display_data"
    }
   ],
   "source": [
    "real_results_cred['credibility_score_weighted'].plot(kind='hist', bins=10, figsize=(15, 5), color='orange', rwidth=0.9)\n",
    "plt.title('Distribution of weighted credibility score for real news')"
   ]
  },
  {
   "cell_type": "code",
   "execution_count": null,
   "id": "d6892da0",
   "metadata": {
    "scrolled": true
   },
   "outputs": [],
   "source": [
    "fake_results['score_formality'].plot(kind='hist', bins=10, figsize=(15, 5))\n",
    "plt.title('Distribution of formality score for fake news')"
   ]
  },
  {
   "cell_type": "code",
   "execution_count": null,
   "id": "95fa112f",
   "metadata": {},
   "outputs": [],
   "source": [
    "real_results['score_formality'].plot(kind='hist', bins = 10, figsize=(15, 5), color='orange')\n",
    "plt.title('Distribution of formality score for real news')"
   ]
  },
  {
   "cell_type": "code",
   "execution_count": null,
   "id": "84c41311",
   "metadata": {},
   "outputs": [],
   "source": [
    "fake_results['score_neutrality'].plot(kind='hist', bins=10, figsize=(15, 5))\n",
    "plt.title('Distribution of neutrality score for fake news')"
   ]
  },
  {
   "cell_type": "code",
   "execution_count": null,
   "id": "996b4646",
   "metadata": {},
   "outputs": [],
   "source": [
    "real_results['score_neutrality'].plot(kind='hist', bins = 10, figsize=(15, 5), color='orange')\n",
    "plt.title('Distribution of neutrality score for real news')"
   ]
  },
  {
   "cell_type": "code",
   "execution_count": 6,
   "id": "0af33c2b",
   "metadata": {},
   "outputs": [
    {
     "ename": "NameError",
     "evalue": "name 'fake_results' is not defined",
     "output_type": "error",
     "traceback": [
      "\u001b[0;31m---------------------------------------------------------------------------\u001b[0m",
      "\u001b[0;31mNameError\u001b[0m                                 Traceback (most recent call last)",
      "\u001b[0;32m<ipython-input-6-1d5e5df0c961>\u001b[0m in \u001b[0;36m<module>\u001b[0;34m\u001b[0m\n\u001b[0;32m----> 1\u001b[0;31m \u001b[0mfake_results\u001b[0m\u001b[0;34m[\u001b[0m\u001b[0;34m'score_transparency'\u001b[0m\u001b[0;34m]\u001b[0m\u001b[0;34m.\u001b[0m\u001b[0mplot\u001b[0m\u001b[0;34m(\u001b[0m\u001b[0mkind\u001b[0m\u001b[0;34m=\u001b[0m\u001b[0;34m'hist'\u001b[0m\u001b[0;34m,\u001b[0m \u001b[0mbins\u001b[0m\u001b[0;34m=\u001b[0m\u001b[0;36m10\u001b[0m\u001b[0;34m,\u001b[0m \u001b[0mfigsize\u001b[0m\u001b[0;34m=\u001b[0m\u001b[0;34m(\u001b[0m\u001b[0;36m15\u001b[0m\u001b[0;34m,\u001b[0m \u001b[0;36m5\u001b[0m\u001b[0;34m)\u001b[0m\u001b[0;34m)\u001b[0m\u001b[0;34m\u001b[0m\u001b[0;34m\u001b[0m\u001b[0m\n\u001b[0m\u001b[1;32m      2\u001b[0m \u001b[0mplt\u001b[0m\u001b[0;34m.\u001b[0m\u001b[0mtitle\u001b[0m\u001b[0;34m(\u001b[0m\u001b[0;34m'Distribution of transparency score for fake news'\u001b[0m\u001b[0;34m)\u001b[0m\u001b[0;34m\u001b[0m\u001b[0;34m\u001b[0m\u001b[0m\n",
      "\u001b[0;31mNameError\u001b[0m: name 'fake_results' is not defined"
     ]
    }
   ],
   "source": [
    "fake_results['score_transparency'].plot(kind='hist', bins=10, figsize=(15, 5))\n",
    "plt.title('Distribution of transparency score for fake news')"
   ]
  },
  {
   "cell_type": "code",
   "execution_count": null,
   "id": "fc518050",
   "metadata": {},
   "outputs": [],
   "source": [
    "real_results['score_transparency'].plot(kind='hist', bins = 10, figsize=(15, 5), color='orange')\n",
    "plt.title('Distribution of transparency score for real news')"
   ]
  },
  {
   "cell_type": "code",
   "execution_count": null,
   "id": "dba4fa91",
   "metadata": {},
   "outputs": [],
   "source": [
    "fake_results['score_layout'].plot(kind='hist', bins=10, figsize=(15, 5))\n",
    "plt.title('Distribution of layout score for fake news')"
   ]
  },
  {
   "cell_type": "code",
   "execution_count": null,
   "id": "0b3d53c1",
   "metadata": {},
   "outputs": [],
   "source": [
    "real_results['score_layout'].plot(kind='hist', bins = 10, figsize=(15, 5), color='orange')\n",
    "plt.title('Distribution of layout score for real news')"
   ]
  },
  {
   "cell_type": "code",
   "execution_count": null,
   "id": "b96d85d3",
   "metadata": {},
   "outputs": [],
   "source": [
    "fake_results['form_score_punctuation'].plot(kind='hist', bins = 10, figsize=(15, 5))\n",
    "plt.title('Distribution of the punctuation subscore for fake news')"
   ]
  },
  {
   "cell_type": "code",
   "execution_count": null,
   "id": "a30bc591",
   "metadata": {},
   "outputs": [],
   "source": [
    "real_results['form_score_punctuation'].plot(kind='hist', bins = 10, figsize=(15, 5), color='orange')\n",
    "plt.title('Distribution of the punctuation subscore for real news')"
   ]
  },
  {
   "cell_type": "code",
   "execution_count": null,
   "id": "3368fc46",
   "metadata": {},
   "outputs": [],
   "source": [
    "fake_results['form_score_complexity'].plot(kind='hist', bins = 10, figsize=(15, 5))\n",
    "plt.title('Distribution of the complexity subscore for fake news')"
   ]
  },
  {
   "cell_type": "code",
   "execution_count": null,
   "id": "550e4c27",
   "metadata": {},
   "outputs": [],
   "source": [
    "real_results['form_score_complexity'].plot(kind='hist', bins = 10, figsize=(15, 5), color='orange')\n",
    "plt.title('Distribution of the complexity subscore for real news')"
   ]
  },
  {
   "cell_type": "code",
   "execution_count": null,
   "id": "7acbd15b",
   "metadata": {},
   "outputs": [],
   "source": []
  },
  {
   "cell_type": "code",
   "execution_count": 7,
   "id": "4b6a21c8",
   "metadata": {},
   "outputs": [
    {
     "ename": "NameError",
     "evalue": "name 'fake_results_cred' is not defined",
     "output_type": "error",
     "traceback": [
      "\u001b[0;31m---------------------------------------------------------------------------\u001b[0m",
      "\u001b[0;31mNameError\u001b[0m                                 Traceback (most recent call last)",
      "\u001b[0;32m<ipython-input-7-bde9f6e340d2>\u001b[0m in \u001b[0;36m<module>\u001b[0;34m\u001b[0m\n\u001b[0;32m----> 1\u001b[0;31m \u001b[0mfake_results_cred\u001b[0m\u001b[0;34m[\u001b[0m\u001b[0;34m'diff'\u001b[0m\u001b[0;34m]\u001b[0m \u001b[0;34m=\u001b[0m \u001b[0mfake_results_cred\u001b[0m\u001b[0;34m[\u001b[0m\u001b[0;34m'credibility_score_weighted'\u001b[0m\u001b[0;34m]\u001b[0m \u001b[0;34m-\u001b[0m \u001b[0mfake_results_cred\u001b[0m\u001b[0;34m[\u001b[0m\u001b[0;34m'credibility_score'\u001b[0m\u001b[0;34m]\u001b[0m\u001b[0;34m\u001b[0m\u001b[0;34m\u001b[0m\u001b[0m\n\u001b[0m\u001b[1;32m      2\u001b[0m \u001b[0;34m\u001b[0m\u001b[0m\n\u001b[1;32m      3\u001b[0m \u001b[0;32mfor\u001b[0m \u001b[0mdiff\u001b[0m \u001b[0;32min\u001b[0m \u001b[0mfake_results_cred\u001b[0m\u001b[0;34m[\u001b[0m\u001b[0;34m'diff'\u001b[0m\u001b[0;34m]\u001b[0m\u001b[0;34m:\u001b[0m\u001b[0;34m\u001b[0m\u001b[0;34m\u001b[0m\u001b[0m\n\u001b[1;32m      4\u001b[0m     \u001b[0;32mif\u001b[0m \u001b[0mdiff\u001b[0m \u001b[0;34m>\u001b[0m \u001b[0;36m1\u001b[0m\u001b[0;34m:\u001b[0m\u001b[0;34m\u001b[0m\u001b[0;34m\u001b[0m\u001b[0m\n\u001b[1;32m      5\u001b[0m         \u001b[0mprint\u001b[0m\u001b[0;34m(\u001b[0m\u001b[0mdiff\u001b[0m\u001b[0;34m)\u001b[0m\u001b[0;34m\u001b[0m\u001b[0;34m\u001b[0m\u001b[0m\n",
      "\u001b[0;31mNameError\u001b[0m: name 'fake_results_cred' is not defined"
     ]
    }
   ],
   "source": [
    "fake_results_cred['diff'] = fake_results_cred['credibility_score_weighted'] - fake_results_cred['credibility_score']\n",
    "\n",
    "for diff in fake_results_cred['diff']:\n",
    "    if diff > 1:\n",
    "        print(diff)"
   ]
  },
  {
   "cell_type": "code",
   "execution_count": null,
   "id": "b1f6b0d3",
   "metadata": {},
   "outputs": [],
   "source": [
    "real_results_cred['diff'] = real_results_cred['credibility_score_weighted'] - real_results_cred['credibility_score']\n",
    "\n",
    "for diff in real_results_cred['diff']:\n",
    "    if diff > 1:\n",
    "        print(diff)"
   ]
  },
  {
   "cell_type": "markdown",
   "id": "2cc66582",
   "metadata": {},
   "source": [
    "## Adding domain column to dataframes"
   ]
  },
  {
   "cell_type": "code",
   "execution_count": null,
   "id": "48793a50",
   "metadata": {},
   "outputs": [],
   "source": [
    "m = fake_results['url'].str.extract('(?<=http://)(.*?)(?=/)|(?<=https://)(.*?)(?=/)')\n",
    "m = m[0].fillna(m[1]).fillna(fake_results['url'])\n",
    "\n",
    "fake_results['domain'] = m\n",
    "\n",
    "n = real_results['url'].str.extract('(?<=http://)(.*?)(?=/)|(?<=https://)(.*?)(?=/)')\n",
    "n = n[0].fillna(n[1]).fillna(real_results['url'])\n",
    "\n",
    "real_results['domain'] = n\n",
    "\n",
    "fake_results = fake_results[['domain', 'url', 'credibility_score', 'credibility_score_weighted', 'score_formality', \n",
    "                             'score_neutrality', 'score_transparency', 'score_layout', 'form_score_spelling', \n",
    "                             'form_score_punctuation', 'form_score_capitalization', 'form_score_complexity', \n",
    "                             'neut_score_superlatives', 'neut_score_emotional', 'neut_score_banned', 'neut_score_slurs', \n",
    "                             'tran_score_citations', 'tran_score_external_references', 'tran_score_broken_links', 'tran_score_author', \n",
    "                             'lay_score_photos', 'lay_score_video', 'lay_score_font_size', 'lay_score_font_type']]\n",
    "real_results = real_results[['domain', 'url', 'credibility_score', 'credibility_score_weighted', 'score_formality', \n",
    "                             'score_neutrality', 'score_transparency', 'score_layout', 'form_score_spelling', \n",
    "                             'form_score_punctuation', 'form_score_capitalization', 'form_score_complexity', \n",
    "                             'neut_score_superlatives', 'neut_score_emotional', 'neut_score_banned', 'neut_score_slurs', \n",
    "                             'tran_score_citations', 'tran_score_external_references', 'tran_score_broken_links', 'tran_score_author', \n",
    "                             'lay_score_photos', 'lay_score_video', 'lay_score_font_size', 'lay_score_font_type']]"
   ]
  },
  {
   "cell_type": "markdown",
   "id": "0df05acb",
   "metadata": {},
   "source": [
    "## Top 5 and Flop 5 for both fake and real news"
   ]
  },
  {
   "cell_type": "code",
   "execution_count": null,
   "id": "31a1f373",
   "metadata": {},
   "outputs": [],
   "source": [
    "fake_results.nlargest(5, 'credibility_score')"
   ]
  },
  {
   "cell_type": "code",
   "execution_count": null,
   "id": "6ebc99a3",
   "metadata": {},
   "outputs": [],
   "source": [
    "fake_results.nsmallest(5, 'credibility_score')"
   ]
  },
  {
   "cell_type": "code",
   "execution_count": 8,
   "id": "31e1c4db",
   "metadata": {},
   "outputs": [
    {
     "ename": "NameError",
     "evalue": "name 'real_results' is not defined",
     "output_type": "error",
     "traceback": [
      "\u001b[0;31m---------------------------------------------------------------------------\u001b[0m",
      "\u001b[0;31mNameError\u001b[0m                                 Traceback (most recent call last)",
      "\u001b[0;32m<ipython-input-8-772d20a1f8b8>\u001b[0m in \u001b[0;36m<module>\u001b[0;34m\u001b[0m\n\u001b[0;32m----> 1\u001b[0;31m \u001b[0mreal_results\u001b[0m\u001b[0;34m.\u001b[0m\u001b[0mnlargest\u001b[0m\u001b[0;34m(\u001b[0m\u001b[0;36m5\u001b[0m\u001b[0;34m,\u001b[0m \u001b[0;34m'credibility_score'\u001b[0m\u001b[0;34m)\u001b[0m\u001b[0;34m\u001b[0m\u001b[0;34m\u001b[0m\u001b[0m\n\u001b[0m",
      "\u001b[0;31mNameError\u001b[0m: name 'real_results' is not defined"
     ]
    }
   ],
   "source": [
    "real_results.nlargest(5, 'credibility_score')"
   ]
  },
  {
   "cell_type": "code",
   "execution_count": null,
   "id": "45676891",
   "metadata": {},
   "outputs": [],
   "source": [
    "real_results.nsmallest(5, 'credibility_score')"
   ]
  },
  {
   "cell_type": "markdown",
   "id": "25b39272",
   "metadata": {},
   "source": [
    "## Looking for correlations between subscores"
   ]
  },
  {
   "cell_type": "code",
   "execution_count": null,
   "id": "875bcb75",
   "metadata": {},
   "outputs": [],
   "source": [
    "ax1 = real_results_subsubscores.plot.scatter(x='tran_score_citations', y='tran_score_external_references', c='DarkBlue')"
   ]
  },
  {
   "cell_type": "code",
   "execution_count": 9,
   "id": "de715081",
   "metadata": {},
   "outputs": [
    {
     "ename": "NameError",
     "evalue": "name 'real_results_subsubscores' is not defined",
     "output_type": "error",
     "traceback": [
      "\u001b[0;31m---------------------------------------------------------------------------\u001b[0m",
      "\u001b[0;31mNameError\u001b[0m                                 Traceback (most recent call last)",
      "\u001b[0;32m<ipython-input-9-ba45066da1eb>\u001b[0m in \u001b[0;36m<module>\u001b[0;34m\u001b[0m\n\u001b[0;32m----> 1\u001b[0;31m \u001b[0;32mfor\u001b[0m \u001b[0mvar1\u001b[0m \u001b[0;32min\u001b[0m \u001b[0mreal_results_subsubscores\u001b[0m\u001b[0;34m:\u001b[0m\u001b[0;34m\u001b[0m\u001b[0;34m\u001b[0m\u001b[0m\n\u001b[0m\u001b[1;32m      2\u001b[0m     \u001b[0;32mfor\u001b[0m \u001b[0mvar2\u001b[0m \u001b[0;32min\u001b[0m \u001b[0mreal_results_subsubscores\u001b[0m\u001b[0;34m:\u001b[0m\u001b[0;34m\u001b[0m\u001b[0;34m\u001b[0m\u001b[0m\n\u001b[1;32m      3\u001b[0m         \u001b[0;32mif\u001b[0m \u001b[0mvar1\u001b[0m \u001b[0;34m!=\u001b[0m \u001b[0mvar2\u001b[0m\u001b[0;34m:\u001b[0m\u001b[0;34m\u001b[0m\u001b[0;34m\u001b[0m\u001b[0m\n\u001b[1;32m      4\u001b[0m             \u001b[0max1\u001b[0m \u001b[0;34m=\u001b[0m \u001b[0mreal_results_subsubscores\u001b[0m\u001b[0;34m.\u001b[0m\u001b[0mplot\u001b[0m\u001b[0;34m.\u001b[0m\u001b[0mscatter\u001b[0m\u001b[0;34m(\u001b[0m\u001b[0mx\u001b[0m\u001b[0;34m=\u001b[0m\u001b[0mvar1\u001b[0m\u001b[0;34m,\u001b[0m \u001b[0my\u001b[0m\u001b[0;34m=\u001b[0m\u001b[0mvar2\u001b[0m\u001b[0;34m,\u001b[0m \u001b[0mc\u001b[0m\u001b[0;34m=\u001b[0m\u001b[0;34m'DarkBlue'\u001b[0m\u001b[0;34m)\u001b[0m\u001b[0;34m\u001b[0m\u001b[0;34m\u001b[0m\u001b[0m\n",
      "\u001b[0;31mNameError\u001b[0m: name 'real_results_subsubscores' is not defined"
     ]
    }
   ],
   "source": [
    "for var1 in real_results_subsubscores: \n",
    "    for var2 in real_results_subsubscores:\n",
    "        if var1 != var2:\n",
    "            ax1 = real_results_subsubscores.plot.scatter(x=var1, y=var2, c='DarkBlue')"
   ]
  },
  {
   "cell_type": "markdown",
   "id": "b97da9b9",
   "metadata": {},
   "source": [
    "\n",
    "## Score distribution"
   ]
  },
  {
   "cell_type": "code",
   "execution_count": null,
   "id": "095b6cd7",
   "metadata": {},
   "outputs": [],
   "source": [
    "ax = fake_results['credibility_score'].plot.kde(figsize=(15, 8))\n",
    "plt.xticks([4, 4.5, 5, 5.5, 6, 6.5, 7, 7.5, 8, 8.5, 9])"
   ]
  },
  {
   "cell_type": "code",
   "execution_count": 10,
   "id": "0da66d4a",
   "metadata": {},
   "outputs": [
    {
     "ename": "NameError",
     "evalue": "name 'real_results' is not defined",
     "output_type": "error",
     "traceback": [
      "\u001b[0;31m---------------------------------------------------------------------------\u001b[0m",
      "\u001b[0;31mNameError\u001b[0m                                 Traceback (most recent call last)",
      "\u001b[0;32m<ipython-input-10-7a8743bc47fd>\u001b[0m in \u001b[0;36m<module>\u001b[0;34m\u001b[0m\n\u001b[0;32m----> 1\u001b[0;31m \u001b[0max\u001b[0m \u001b[0;34m=\u001b[0m \u001b[0mreal_results\u001b[0m\u001b[0;34m[\u001b[0m\u001b[0;34m'credibility_score'\u001b[0m\u001b[0;34m]\u001b[0m\u001b[0;34m.\u001b[0m\u001b[0mplot\u001b[0m\u001b[0;34m.\u001b[0m\u001b[0mkde\u001b[0m\u001b[0;34m(\u001b[0m\u001b[0mfigsize\u001b[0m\u001b[0;34m=\u001b[0m\u001b[0;34m(\u001b[0m\u001b[0;36m15\u001b[0m\u001b[0;34m,\u001b[0m \u001b[0;36m8\u001b[0m\u001b[0;34m)\u001b[0m\u001b[0;34m)\u001b[0m\u001b[0;34m\u001b[0m\u001b[0;34m\u001b[0m\u001b[0m\n\u001b[0m\u001b[1;32m      2\u001b[0m \u001b[0mplt\u001b[0m\u001b[0;34m.\u001b[0m\u001b[0mxticks\u001b[0m\u001b[0;34m(\u001b[0m\u001b[0;34m[\u001b[0m\u001b[0;36m4\u001b[0m\u001b[0;34m,\u001b[0m \u001b[0;36m4.5\u001b[0m\u001b[0;34m,\u001b[0m \u001b[0;36m5\u001b[0m\u001b[0;34m,\u001b[0m \u001b[0;36m5.5\u001b[0m\u001b[0;34m,\u001b[0m \u001b[0;36m6\u001b[0m\u001b[0;34m,\u001b[0m \u001b[0;36m6.5\u001b[0m\u001b[0;34m,\u001b[0m \u001b[0;36m7\u001b[0m\u001b[0;34m,\u001b[0m \u001b[0;36m7.5\u001b[0m\u001b[0;34m,\u001b[0m \u001b[0;36m8\u001b[0m\u001b[0;34m,\u001b[0m \u001b[0;36m8.5\u001b[0m\u001b[0;34m,\u001b[0m \u001b[0;36m9\u001b[0m\u001b[0;34m]\u001b[0m\u001b[0;34m)\u001b[0m\u001b[0;34m\u001b[0m\u001b[0;34m\u001b[0m\u001b[0m\n",
      "\u001b[0;31mNameError\u001b[0m: name 'real_results' is not defined"
     ]
    }
   ],
   "source": [
    "ax = real_results['credibility_score'].plot.kde(figsize=(15, 8))\n",
    "plt.xticks([4, 4.5, 5, 5.5, 6, 6.5, 7, 7.5, 8, 8.5, 9])"
   ]
  },
  {
   "cell_type": "code",
   "execution_count": null,
   "id": "7bff6339",
   "metadata": {},
   "outputs": [],
   "source": [
    "ax = fake_results['credibility_score_weighted'].plot.kde(figsize=(15, 8))\n",
    "plt.xticks([4, 4.5, 5, 5.5, 6, 6.5, 7, 7.5, 8, 8.5, 9])"
   ]
  },
  {
   "cell_type": "code",
   "execution_count": null,
   "id": "5e8e3375",
   "metadata": {},
   "outputs": [],
   "source": [
    "ax = real_results['credibility_score_weighted'].plot.kde(figsize=(15, 8))\n",
    "plt.xticks([4, 4.5, 5, 5.5, 6, 6.5, 7, 7.5, 8, 8.5, 9])"
   ]
  },
  {
   "cell_type": "code",
   "execution_count": null,
   "id": "e83a21f7",
   "metadata": {},
   "outputs": [],
   "source": [
    "count = 0\n",
    "\n",
    "for score in fake_results_subscores['score_layout']:\n",
    "    if 4 > score >= 3:\n",
    "        #print(score)\n",
    "        count+=1\n",
    "\n",
    "print(count/230)"
   ]
  },
  {
   "cell_type": "code",
   "execution_count": null,
   "id": "b65c1408",
   "metadata": {},
   "outputs": [],
   "source": [
    "count = 0\n",
    "\n",
    "for score in real_results_subscores['score_layout']:\n",
    "    if 4 > score >= 3:\n",
    "        #print(score)\n",
    "        count+=1\n",
    "\n",
    "print(count/171)"
   ]
  },
  {
   "cell_type": "code",
   "execution_count": null,
   "id": "348e038b",
   "metadata": {},
   "outputs": [],
   "source": [
    "count = 0\n",
    "\n",
    "for score in real_results_subsubscores['lay_score_video']:\n",
    "    if score==1:\n",
    "        #print(score)\n",
    "        count+=1\n",
    "\n",
    "print(count)\n",
    "print(25/401)"
   ]
  },
  {
   "cell_type": "code",
   "execution_count": 11,
   "id": "198ad1c8",
   "metadata": {},
   "outputs": [
    {
     "ename": "NameError",
     "evalue": "name 'real_results_subsubscores' is not defined",
     "output_type": "error",
     "traceback": [
      "\u001b[0;31m---------------------------------------------------------------------------\u001b[0m",
      "\u001b[0;31mNameError\u001b[0m                                 Traceback (most recent call last)",
      "\u001b[0;32m<ipython-input-11-b236dbb2425e>\u001b[0m in \u001b[0;36m<module>\u001b[0;34m\u001b[0m\n\u001b[0;32m----> 1\u001b[0;31m \u001b[0mreal_results_subsubscores\u001b[0m\u001b[0;34m[\u001b[0m\u001b[0;34m'neut_score_emotional'\u001b[0m\u001b[0;34m]\u001b[0m\u001b[0;34m.\u001b[0m\u001b[0mmean\u001b[0m\u001b[0;34m(\u001b[0m\u001b[0;34m)\u001b[0m\u001b[0;34m\u001b[0m\u001b[0;34m\u001b[0m\u001b[0m\n\u001b[0m",
      "\u001b[0;31mNameError\u001b[0m: name 'real_results_subsubscores' is not defined"
     ]
    }
   ],
   "source": [
    "real_results_subsubscores['neut_score_emotional'].mean()"
   ]
  },
  {
   "cell_type": "code",
   "execution_count": null,
   "id": "cea16338",
   "metadata": {},
   "outputs": [],
   "source": [
    "fake_results.groupby('domain')['credibility_score_weighted'].mean().sort_values()"
   ]
  },
  {
   "cell_type": "code",
   "execution_count": 12,
   "id": "ba76ba30",
   "metadata": {},
   "outputs": [
    {
     "ename": "NameError",
     "evalue": "name 'fake_results' is not defined",
     "output_type": "error",
     "traceback": [
      "\u001b[0;31m---------------------------------------------------------------------------\u001b[0m",
      "\u001b[0;31mNameError\u001b[0m                                 Traceback (most recent call last)",
      "\u001b[0;32m<ipython-input-12-b04a80af3a15>\u001b[0m in \u001b[0;36m<module>\u001b[0;34m\u001b[0m\n\u001b[0;32m----> 1\u001b[0;31m \u001b[0mfake_results\u001b[0m\u001b[0;34m\u001b[0m\u001b[0;34m\u001b[0m\u001b[0m\n\u001b[0m",
      "\u001b[0;31mNameError\u001b[0m: name 'fake_results' is not defined"
     ]
    }
   ],
   "source": [
    "fake_results"
   ]
  },
  {
   "cell_type": "code",
   "execution_count": null,
   "id": "19f00760",
   "metadata": {},
   "outputs": [],
   "source": []
  }
 ],
 "metadata": {
  "kernelspec": {
   "display_name": "Python 3",
   "language": "python",
   "name": "python3"
  },
  "language_info": {
   "codemirror_mode": {
    "name": "ipython",
    "version": 3
   },
   "file_extension": ".py",
   "mimetype": "text/x-python",
   "name": "python",
   "nbconvert_exporter": "python",
   "pygments_lexer": "ipython3",
   "version": "3.8.10"
  }
 },
 "nbformat": 4,
 "nbformat_minor": 5
}
